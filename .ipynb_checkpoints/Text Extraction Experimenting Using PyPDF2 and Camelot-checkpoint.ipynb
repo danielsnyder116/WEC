{
 "cells": [
  {
   "cell_type": "code",
   "execution_count": 1,
   "metadata": {},
   "outputs": [
    {
     "name": "stdout",
     "output_type": "stream",
     "text": [
      "/c/Users/602770/downloads/volunteer/wec/notebooks/WEC\n"
     ]
    }
   ],
   "source": [
    "# Figure out how to export data from proactive\n",
    "# Create analysis for the team \n",
    "!pwd"
   ]
  },
  {
   "cell_type": "code",
   "execution_count": 2,
   "metadata": {},
   "outputs": [],
   "source": [
    "import pandas as pd\n",
    "import camelot\n",
    "import os\n",
    "import re\n",
    "\n",
    "from pathlib import Path"
   ]
  },
  {
   "cell_type": "code",
   "execution_count": 3,
   "metadata": {},
   "outputs": [],
   "source": [
    "pd.set_option('max_rows', None)\n",
    "pd.set_option('max_columns', None)"
   ]
  },
  {
   "cell_type": "code",
   "execution_count": 7,
   "metadata": {},
   "outputs": [],
   "source": [
    "p = Path('C:/Users/602770/Downloads/volunteer/wec/student-data_raw')\n",
    "files = list(p.glob('*.pdf'))"
   ]
  },
  {
   "cell_type": "code",
   "execution_count": 8,
   "metadata": {},
   "outputs": [],
   "source": [
    "test = files[1:2]"
   ]
  },
  {
   "cell_type": "code",
   "execution_count": 9,
   "metadata": {},
   "outputs": [
    {
     "data": {
      "text/plain": [
       "[WindowsPath('C:/Users/602770/Downloads/volunteer/wec/student-data_raw/fall_2001.pdf')]"
      ]
     },
     "execution_count": 9,
     "metadata": {},
     "output_type": "execute_result"
    }
   ],
   "source": [
    "test"
   ]
  },
  {
   "cell_type": "code",
   "execution_count": 10,
   "metadata": {},
   "outputs": [
    {
     "name": "stdout",
     "output_type": "stream",
     "text": [
      "fall_2001.pdf\n"
     ]
    }
   ],
   "source": [
    "for file in test:\n",
    "    print(file.name)"
   ]
  },
  {
   "cell_type": "code",
   "execution_count": 11,
   "metadata": {},
   "outputs": [
    {
     "data": {
      "text/plain": [
       "'fall_2001.pdf'"
      ]
     },
     "execution_count": 11,
     "metadata": {},
     "output_type": "execute_result"
    }
   ],
   "source": [
    "files[1].name"
   ]
  },
  {
   "cell_type": "code",
   "execution_count": 12,
   "metadata": {},
   "outputs": [],
   "source": [
    "os.chdir('C:/Users/602770/Downloads/volunteer/wec/student-data_raw')"
   ]
  },
  {
   "cell_type": "code",
   "execution_count": 13,
   "metadata": {},
   "outputs": [],
   "source": [
    "#Older way to get text, but no way to get tables - PyPDF2\n",
    "\n",
    "#import PyPDF2\n",
    "\n",
    "# df_gen = (open(file, 'rb') for file in files)\n",
    "# df = next(df_gen)\n",
    "# df\n",
    "\n",
    "# pdf_reader = PyPDF2.PdfFileReader(df)\n",
    "# pdf_reader.numPages\n",
    "# page_object = pdf_reader.getPage(0)\n",
    "# page_object.extractText()"
   ]
  },
  {
   "cell_type": "code",
   "execution_count": 14,
   "metadata": {},
   "outputs": [],
   "source": [
    "# gen = (camelot.read_pdf(j) for j in files)\n",
    "# text = next(gen)"
   ]
  },
  {
   "cell_type": "code",
   "execution_count": 15,
   "metadata": {},
   "outputs": [
    {
     "data": {
      "text/plain": [
       "'fall_2001.pdf'"
      ]
     },
     "execution_count": 15,
     "metadata": {},
     "output_type": "execute_result"
    }
   ],
   "source": [
    "file.name"
   ]
  },
  {
   "cell_type": "code",
   "execution_count": 16,
   "metadata": {},
   "outputs": [
    {
     "data": {
      "text/plain": [
       "'fall_2001.csv'"
      ]
     },
     "execution_count": 16,
     "metadata": {},
     "output_type": "execute_result"
    }
   ],
   "source": [
    "file.name[:-3] + 'csv'"
   ]
  },
  {
   "cell_type": "code",
   "execution_count": 17,
   "metadata": {},
   "outputs": [
    {
     "data": {
      "text/plain": [
       "13"
      ]
     },
     "execution_count": 17,
     "metadata": {},
     "output_type": "execute_result"
    }
   ],
   "source": [
    "len(file.name)"
   ]
  },
  {
   "cell_type": "code",
   "execution_count": 18,
   "metadata": {},
   "outputs": [],
   "source": [
    "#Go through each file in the glob list\n",
    "for file in test:\n",
    "    \n",
    "    #Get the file's name and save to different object to keep clean\n",
    "    name = file.name\n",
    "    \n",
    "    #Read in the pdf\n",
    "    table = camelot.read_pdf(name, pages='all', flavor='stream', encoding='latin-1')\n",
    "    \n",
    "    #Use splicing to get rid of 'pdf' and save as csv file\n",
    "    table.export(name[:-3] + 'csv')"
   ]
  },
  {
   "cell_type": "code",
   "execution_count": 19,
   "metadata": {},
   "outputs": [],
   "source": [
    "#Sort to find specific files- still working on this\n",
    "\n",
    "# ['fall_2000' in i for i in list(p.glob('*.csv'))[0:]]"
   ]
  },
  {
   "cell_type": "code",
   "execution_count": 22,
   "metadata": {},
   "outputs": [],
   "source": [
    "result = list(p.glob('fall_2001*.csv'))"
   ]
  },
  {
   "cell_type": "code",
   "execution_count": 23,
   "metadata": {},
   "outputs": [],
   "source": [
    "combined = pd.concat([pd.read_csv(j, header=3) for j in result], sort=False)"
   ]
  },
  {
   "cell_type": "code",
   "execution_count": 24,
   "metadata": {},
   "outputs": [
    {
     "data": {
      "text/plain": [
       "571"
      ]
     },
     "execution_count": 24,
     "metadata": {},
     "output_type": "execute_result"
    }
   ],
   "source": [
    "len(combined)"
   ]
  },
  {
   "cell_type": "code",
   "execution_count": 25,
   "metadata": {},
   "outputs": [
    {
     "data": {
      "text/plain": [
       "Index(['Student ID', 'Last Name', 'Fisrt Name', 'Age', 'Gender', 'Ethnicity',\n",
       "       'under 22', 'Income', 'Status', 'Zip Code', 'Education', 'Years in US',\n",
       "       'Gender\\nEthnicity', 'Education\\nYears in US', 'Unnamed: 0',\n",
       "       'Unnamed: 1', 'Unnamed: 2', 'Unnamed: 3', 'w/ Child',\n",
       "       'Low \\nEmployment', 'Years of'],\n",
       "      dtype='object')"
      ]
     },
     "execution_count": 25,
     "metadata": {},
     "output_type": "execute_result"
    }
   ],
   "source": [
    "combined.columns"
   ]
  },
  {
   "cell_type": "code",
   "execution_count": 28,
   "metadata": {},
   "outputs": [],
   "source": [
    "combined['Gender_Final'] = combined['Gender'].astype(str) + combined['Gender\\nEthnicity'].astype(str)"
   ]
  },
  {
   "cell_type": "code",
   "execution_count": 29,
   "metadata": {},
   "outputs": [],
   "source": [
    "combined['Gender_Final'] = combined['Gender_Final']"
   ]
  },
  {
   "cell_type": "code",
   "execution_count": 30,
   "metadata": {},
   "outputs": [],
   "source": [
    "combined.rename(columns={'Fisrt Name':'First Name', 'under 22':'With child under 22', 'Income':'Low Income'}, inplace=True)"
   ]
  },
  {
   "cell_type": "code",
   "execution_count": 31,
   "metadata": {},
   "outputs": [
    {
     "data": {
      "text/html": [
       "<div>\n",
       "<style scoped>\n",
       "    .dataframe tbody tr th:only-of-type {\n",
       "        vertical-align: middle;\n",
       "    }\n",
       "\n",
       "    .dataframe tbody tr th {\n",
       "        vertical-align: top;\n",
       "    }\n",
       "\n",
       "    .dataframe thead th {\n",
       "        text-align: right;\n",
       "    }\n",
       "</style>\n",
       "<table border=\"1\" class=\"dataframe\">\n",
       "  <thead>\n",
       "    <tr style=\"text-align: right;\">\n",
       "      <th></th>\n",
       "      <th>Student ID</th>\n",
       "      <th>Last Name</th>\n",
       "      <th>First Name</th>\n",
       "      <th>Age</th>\n",
       "      <th>Gender</th>\n",
       "      <th>Ethnicity</th>\n",
       "      <th>With child under 22</th>\n",
       "      <th>Low Income</th>\n",
       "      <th>Status</th>\n",
       "      <th>Zip Code</th>\n",
       "      <th>Education</th>\n",
       "      <th>Years in US</th>\n",
       "      <th>Gender\n",
       "Ethnicity</th>\n",
       "      <th>Education\n",
       "Years in US</th>\n",
       "      <th>Unnamed: 0</th>\n",
       "      <th>Unnamed: 1</th>\n",
       "      <th>Unnamed: 2</th>\n",
       "      <th>Unnamed: 3</th>\n",
       "      <th>w/ Child</th>\n",
       "      <th>Low \n",
       "Employment</th>\n",
       "      <th>Years of</th>\n",
       "      <th>Gender_Final</th>\n",
       "    </tr>\n",
       "  </thead>\n",
       "  <tbody>\n",
       "    <tr>\n",
       "      <th>0</th>\n",
       "      <td>1949959769</td>\n",
       "      <td>Abarca</td>\n",
       "      <td>Blanca</td>\n",
       "      <td>41.0</td>\n",
       "      <td>Female</td>\n",
       "      <td>Hispanic or</td>\n",
       "      <td>No</td>\n",
       "      <td>NaN</td>\n",
       "      <td>NaN</td>\n",
       "      <td>20010.0</td>\n",
       "      <td>NaN</td>\n",
       "      <td>NaN</td>\n",
       "      <td>NaN</td>\n",
       "      <td>NaN</td>\n",
       "      <td>NaN</td>\n",
       "      <td>NaN</td>\n",
       "      <td>NaN</td>\n",
       "      <td>NaN</td>\n",
       "      <td>NaN</td>\n",
       "      <td>NaN</td>\n",
       "      <td>NaN</td>\n",
       "      <td>Femalenan</td>\n",
       "    </tr>\n",
       "    <tr>\n",
       "      <th>1</th>\n",
       "      <td>NaN</td>\n",
       "      <td>NaN</td>\n",
       "      <td>NaN</td>\n",
       "      <td>NaN</td>\n",
       "      <td>NaN</td>\n",
       "      <td>Latino</td>\n",
       "      <td>NaN</td>\n",
       "      <td>NaN</td>\n",
       "      <td>NaN</td>\n",
       "      <td>NaN</td>\n",
       "      <td>NaN</td>\n",
       "      <td>NaN</td>\n",
       "      <td>NaN</td>\n",
       "      <td>NaN</td>\n",
       "      <td>NaN</td>\n",
       "      <td>NaN</td>\n",
       "      <td>NaN</td>\n",
       "      <td>NaN</td>\n",
       "      <td>NaN</td>\n",
       "      <td>NaN</td>\n",
       "      <td>NaN</td>\n",
       "      <td>nannan</td>\n",
       "    </tr>\n",
       "    <tr>\n",
       "      <th>2</th>\n",
       "      <td>1195783227</td>\n",
       "      <td>Abdul</td>\n",
       "      <td>Mohamed</td>\n",
       "      <td>43.0</td>\n",
       "      <td>Male</td>\n",
       "      <td>Non-Hispanic or</td>\n",
       "      <td>No</td>\n",
       "      <td>NaN</td>\n",
       "      <td>NaN</td>\n",
       "      <td>20854.0</td>\n",
       "      <td>16.0</td>\n",
       "      <td>NaN</td>\n",
       "      <td>NaN</td>\n",
       "      <td>NaN</td>\n",
       "      <td>NaN</td>\n",
       "      <td>NaN</td>\n",
       "      <td>NaN</td>\n",
       "      <td>NaN</td>\n",
       "      <td>NaN</td>\n",
       "      <td>NaN</td>\n",
       "      <td>NaN</td>\n",
       "      <td>Malenan</td>\n",
       "    </tr>\n",
       "    <tr>\n",
       "      <th>3</th>\n",
       "      <td>NaN</td>\n",
       "      <td>NaN</td>\n",
       "      <td>NaN</td>\n",
       "      <td>NaN</td>\n",
       "      <td>NaN</td>\n",
       "      <td>Latino</td>\n",
       "      <td>NaN</td>\n",
       "      <td>NaN</td>\n",
       "      <td>NaN</td>\n",
       "      <td>NaN</td>\n",
       "      <td>NaN</td>\n",
       "      <td>NaN</td>\n",
       "      <td>NaN</td>\n",
       "      <td>NaN</td>\n",
       "      <td>NaN</td>\n",
       "      <td>NaN</td>\n",
       "      <td>NaN</td>\n",
       "      <td>NaN</td>\n",
       "      <td>NaN</td>\n",
       "      <td>NaN</td>\n",
       "      <td>NaN</td>\n",
       "      <td>nannan</td>\n",
       "    </tr>\n",
       "    <tr>\n",
       "      <th>4</th>\n",
       "      <td>1205919226</td>\n",
       "      <td>Aboulhouda</td>\n",
       "      <td>Abdelmalek</td>\n",
       "      <td>54.0</td>\n",
       "      <td>Male</td>\n",
       "      <td>Non-Hispanic or</td>\n",
       "      <td>No</td>\n",
       "      <td>NaN</td>\n",
       "      <td>Not Employed</td>\n",
       "      <td>22204.0</td>\n",
       "      <td>12.0</td>\n",
       "      <td>NaN</td>\n",
       "      <td>NaN</td>\n",
       "      <td>NaN</td>\n",
       "      <td>NaN</td>\n",
       "      <td>NaN</td>\n",
       "      <td>NaN</td>\n",
       "      <td>NaN</td>\n",
       "      <td>NaN</td>\n",
       "      <td>NaN</td>\n",
       "      <td>NaN</td>\n",
       "      <td>Malenan</td>\n",
       "    </tr>\n",
       "  </tbody>\n",
       "</table>\n",
       "</div>"
      ],
      "text/plain": [
       "   Student ID   Last Name  First Name   Age  Gender        Ethnicity  \\\n",
       "0  1949959769      Abarca      Blanca  41.0  Female      Hispanic or   \n",
       "1         NaN         NaN         NaN   NaN     NaN           Latino   \n",
       "2  1195783227       Abdul     Mohamed  43.0    Male  Non-Hispanic or   \n",
       "3         NaN         NaN         NaN   NaN     NaN           Latino   \n",
       "4  1205919226  Aboulhouda  Abdelmalek  54.0    Male  Non-Hispanic or   \n",
       "\n",
       "  With child under 22  Low Income        Status  Zip Code  Education  \\\n",
       "0                  No         NaN           NaN   20010.0        NaN   \n",
       "1                 NaN         NaN           NaN       NaN        NaN   \n",
       "2                  No         NaN           NaN   20854.0       16.0   \n",
       "3                 NaN         NaN           NaN       NaN        NaN   \n",
       "4                  No         NaN  Not Employed   22204.0       12.0   \n",
       "\n",
       "  Years in US Gender\\nEthnicity Education\\nYears in US Unnamed: 0 Unnamed: 1  \\\n",
       "0         NaN               NaN                    NaN        NaN        NaN   \n",
       "1         NaN               NaN                    NaN        NaN        NaN   \n",
       "2         NaN               NaN                    NaN        NaN        NaN   \n",
       "3         NaN               NaN                    NaN        NaN        NaN   \n",
       "4         NaN               NaN                    NaN        NaN        NaN   \n",
       "\n",
       "  Unnamed: 2 Unnamed: 3 w/ Child Low \\nEmployment Years of Gender_Final  \n",
       "0        NaN        NaN      NaN              NaN      NaN    Femalenan  \n",
       "1        NaN        NaN      NaN              NaN      NaN       nannan  \n",
       "2        NaN        NaN      NaN              NaN      NaN      Malenan  \n",
       "3        NaN        NaN      NaN              NaN      NaN       nannan  \n",
       "4        NaN        NaN      NaN              NaN      NaN      Malenan  "
      ]
     },
     "execution_count": 31,
     "metadata": {},
     "output_type": "execute_result"
    }
   ],
   "source": [
    "combined.head()"
   ]
  },
  {
   "cell_type": "code",
   "execution_count": 32,
   "metadata": {},
   "outputs": [
    {
     "data": {
      "text/plain": [
       "Index(['Student ID', 'Last Name', 'First Name', 'Age', 'Gender', 'Ethnicity',\n",
       "       'With child under 22', 'Low Income', 'Status', 'Zip Code', 'Education',\n",
       "       'Years in US', 'Gender\\nEthnicity', 'Education\\nYears in US',\n",
       "       'Unnamed: 0', 'Unnamed: 1', 'Unnamed: 2', 'Unnamed: 3', 'w/ Child',\n",
       "       'Low \\nEmployment', 'Years of', 'Gender_Final'],\n",
       "      dtype='object')"
      ]
     },
     "execution_count": 32,
     "metadata": {},
     "output_type": "execute_result"
    }
   ],
   "source": [
    "combined.columns"
   ]
  },
  {
   "cell_type": "code",
   "execution_count": 33,
   "metadata": {},
   "outputs": [],
   "source": [
    "combined = combined[['Student ID', 'Last Name', 'First Name', 'Age', 'Gender', 'Ethnicity',\n",
    "                       'With child under 22', 'Low Income', 'Status', 'Zip Code', 'Education']]"
   ]
  },
  {
   "cell_type": "code",
   "execution_count": 34,
   "metadata": {},
   "outputs": [
    {
     "name": "stderr",
     "output_type": "stream",
     "text": [
      "C:\\Users\\602770\\AppData\\Local\\Continuum\\anaconda3\\envs\\biking\\lib\\site-packages\\ipykernel_launcher.py:1: SettingWithCopyWarning: \n",
      "A value is trying to be set on a copy of a slice from a DataFrame\n",
      "\n",
      "See the caveats in the documentation: http://pandas.pydata.org/pandas-docs/stable/indexing.html#indexing-view-versus-copy\n",
      "  \"\"\"Entry point for launching an IPython kernel.\n"
     ]
    }
   ],
   "source": [
    "combined.dropna(axis=0, thresh=5, inplace=True)"
   ]
  },
  {
   "cell_type": "code",
   "execution_count": 35,
   "metadata": {},
   "outputs": [],
   "source": [
    "combined.sort_values(by='Last Name')\n",
    "combined.reset_index(inplace=True, drop=True)"
   ]
  },
  {
   "cell_type": "code",
   "execution_count": 41,
   "metadata": {},
   "outputs": [
    {
     "data": {
      "text/plain": [
       "[WindowsPath('C:/Users/602770/Downloads/volunteer/wec/student-data_raw/fall_2001-page-1-table-1.csv'),\n",
       " WindowsPath('C:/Users/602770/Downloads/volunteer/wec/student-data_raw/fall_2001-page-10-table-1.csv'),\n",
       " WindowsPath('C:/Users/602770/Downloads/volunteer/wec/student-data_raw/fall_2001-page-11-table-1.csv'),\n",
       " WindowsPath('C:/Users/602770/Downloads/volunteer/wec/student-data_raw/fall_2001-page-12-table-1.csv'),\n",
       " WindowsPath('C:/Users/602770/Downloads/volunteer/wec/student-data_raw/fall_2001-page-13-table-1.csv')]"
      ]
     },
     "execution_count": 41,
     "metadata": {},
     "output_type": "execute_result"
    }
   ],
   "source": [
    "[j for j in result][:5]"
   ]
  },
  {
   "cell_type": "code",
   "execution_count": 40,
   "metadata": {},
   "outputs": [
    {
     "data": {
      "text/plain": [
       "[WindowsPath('C:/Users/602770/Downloads/volunteer/wec/student-data_raw/fall_2000_semester1.csv'),\n",
       " WindowsPath('C:/Users/602770/Downloads/volunteer/wec/student-data_raw/fall_2001-page-1-table-1.csv'),\n",
       " WindowsPath('C:/Users/602770/Downloads/volunteer/wec/student-data_raw/fall_2001-page-10-table-1.csv'),\n",
       " WindowsPath('C:/Users/602770/Downloads/volunteer/wec/student-data_raw/fall_2001-page-11-table-1.csv'),\n",
       " WindowsPath('C:/Users/602770/Downloads/volunteer/wec/student-data_raw/fall_2001-page-12-table-1.csv')]"
      ]
     },
     "execution_count": 40,
     "metadata": {},
     "output_type": "execute_result"
    }
   ],
   "source": [
    "list(p.glob('*.csv'))[:5]"
   ]
  },
  {
   "cell_type": "code",
   "execution_count": 39,
   "metadata": {},
   "outputs": [
    {
     "data": {
      "text/plain": [
       "[WindowsPath('C:/Users/602770/Downloads/volunteer/wec/student-data_raw/fall_2000_semester1.csv'),\n",
       " WindowsPath('C:/Users/602770/Downloads/volunteer/wec/student-data_raw/fall_2001-page-1-table-1.csv'),\n",
       " WindowsPath('C:/Users/602770/Downloads/volunteer/wec/student-data_raw/fall_2001-page-10-table-1.csv'),\n",
       " WindowsPath('C:/Users/602770/Downloads/volunteer/wec/student-data_raw/fall_2001-page-11-table-1.csv'),\n",
       " WindowsPath('C:/Users/602770/Downloads/volunteer/wec/student-data_raw/fall_2001-page-12-table-1.csv')]"
      ]
     },
     "execution_count": 39,
     "metadata": {},
     "output_type": "execute_result"
    }
   ],
   "source": [
    "[i for i in list(p.glob('*.csv'))][:5]"
   ]
  },
  {
   "cell_type": "code",
   "execution_count": 42,
   "metadata": {},
   "outputs": [],
   "source": [
    "blob = str(list(p.glob('*.csv'))).split(',')"
   ]
  },
  {
   "cell_type": "code",
   "execution_count": 44,
   "metadata": {},
   "outputs": [],
   "source": [
    "table = camelot.read_pdf('spring_2010.pdf', pages='all', flavor='stream')"
   ]
  },
  {
   "cell_type": "code",
   "execution_count": null,
   "metadata": {},
   "outputs": [],
   "source": [
    "table"
   ]
  },
  {
   "cell_type": "code",
   "execution_count": null,
   "metadata": {},
   "outputs": [],
   "source": [
    "table[5]"
   ]
  },
  {
   "cell_type": "code",
   "execution_count": null,
   "metadata": {},
   "outputs": [],
   "source": [
    "table.export('spring_2010.csv')\n",
    "# table[5].parsing_report"
   ]
  },
  {
   "cell_type": "code",
   "execution_count": null,
   "metadata": {},
   "outputs": [],
   "source": [
    "list(files)[:5]"
   ]
  },
  {
   "cell_type": "code",
   "execution_count": null,
   "metadata": {},
   "outputs": [],
   "source": []
  }
 ],
 "metadata": {
  "kernelspec": {
   "display_name": "Python 3",
   "language": "python",
   "name": "python3"
  },
  "language_info": {
   "codemirror_mode": {
    "name": "ipython",
    "version": 3
   },
   "file_extension": ".py",
   "mimetype": "text/x-python",
   "name": "python",
   "nbconvert_exporter": "python",
   "pygments_lexer": "ipython3",
   "version": "3.7.3"
  }
 },
 "nbformat": 4,
 "nbformat_minor": 2
}
